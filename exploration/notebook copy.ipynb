{
 "cells": [
  {
   "cell_type": "code",
   "execution_count": 12,
   "metadata": {},
   "outputs": [
    {
     "name": "stdout",
     "output_type": "stream",
     "text": [
      "                                cell_id cell_type    entity_type  \\\n",
      "0  4986b872-fccb-4e22-8c76-951626eabf07     CHILD  COLUMN_HEADER   \n",
      "1  4f16b33f-e273-45c8-bf64-6e3218ceffab     CHILD            NaN   \n",
      "2  7375be6f-ad67-42ab-a16e-cbf09b840a50     CHILD            NaN   \n",
      "3  6e80e698-6b3a-493a-8a86-7558fc6c1605     CHILD            NaN   \n",
      "4  bc3431ee-93a2-4525-b198-813f9e999662     CHILD            NaN   \n",
      "\n",
      "                                          cell_words  \\\n",
      "0                               ['Location', 'Name']   \n",
      "1  ['CR', '5', 'STS/PDU', 'Breakers', 'FDC-501', ...   \n",
      "2  ['CR', '5', 'STS/PDU', 'Breakers', 'FDC-501', ...   \n",
      "3  ['CR', '5', 'STS/PDU', 'Breakers', 'FDC-502', ...   \n",
      "4  ['CR', '5', 'STS/PDU', 'Breakers', 'FDC-502', ...   \n",
      "\n",
      "                           cell_content  cell_width  cell_height  cell_left  \\\n",
      "0                         Location Name    0.357284     0.029317   0.056135   \n",
      "1  CR 5 STS/PDU Breakers FDC-501 PNL 3-    0.357286     0.025680   0.056122   \n",
      "2  CR 5 STS/PDU Breakers FDC-501 PNL 4-    0.357289     0.023014   0.056110   \n",
      "3  CR 5 STS/PDU Breakers FDC-502 PNL 1-    0.357293     0.025352   0.056097   \n",
      "4  CR 5 STS/PDU Breakers FDC-502 PNL 2-    0.357295     0.022686   0.056086   \n",
      "\n",
      "   cell_top  row_index  ...  table_page  \\\n",
      "0  0.231789          1  ...           9   \n",
      "1  0.260787          2  ...           9   \n",
      "2  0.286145          3  ...           9   \n",
      "3  0.308835          4  ...           9   \n",
      "4  0.333860          5  ...           9   \n",
      "\n",
      "                                              source  merged_parent_cell_id  \\\n",
      "0  textract_results_932439d3a7b5afd66ecfc1d716b29...                    NaN   \n",
      "1  textract_results_932439d3a7b5afd66ecfc1d716b29...                    NaN   \n",
      "2  textract_results_932439d3a7b5afd66ecfc1d716b29...                    NaN   \n",
      "3  textract_results_932439d3a7b5afd66ecfc1d716b29...                    NaN   \n",
      "4  textract_results_932439d3a7b5afd66ecfc1d716b29...                    NaN   \n",
      "\n",
      "  has_merged_parent Predicted_block_role  \\\n",
      "0                 0               assets   \n",
      "1                 0               assets   \n",
      "2                 0               assets   \n",
      "3                 0               assets   \n",
      "4                 0               assets   \n",
      "\n",
      "                                              Source        address_1  \\\n",
      "0  textract/textract_results_932439d3a7b5afd66ecf...  2200 Busse Road   \n",
      "1  textract/textract_results_932439d3a7b5afd66ecf...  2200 Busse Road   \n",
      "2  textract/textract_results_932439d3a7b5afd66ecf...  2200 Busse Road   \n",
      "3  textract/textract_results_932439d3a7b5afd66ecf...  2200 Busse Road   \n",
      "4  textract/textract_results_932439d3a7b5afd66ecf...  2200 Busse Road   \n",
      "\n",
      "                       address_2  client_company  \\\n",
      "0  Elk Grove Village IL 60007 US  Server Central   \n",
      "1  Elk Grove Village IL 60007 US  Server Central   \n",
      "2  Elk Grove Village IL 60007 US  Server Central   \n",
      "3  Elk Grove Village IL 60007 US  Server Central   \n",
      "4  Elk Grove Village IL 60007 US  Server Central   \n",
      "\n",
      "                              inspection_date  \n",
      "0  Inspection Date: Apr/08/2021 - Dec/07/2021  \n",
      "1  Inspection Date: Apr/08/2021 - Dec/07/2021  \n",
      "2  Inspection Date: Apr/08/2021 - Dec/07/2021  \n",
      "3  Inspection Date: Apr/08/2021 - Dec/07/2021  \n",
      "4  Inspection Date: Apr/08/2021 - Dec/07/2021  \n",
      "\n",
      "[5 rows x 29 columns]\n"
     ]
    }
   ],
   "source": [
    "import pandas as pd\n",
    "\n",
    "# Load the CSV file\n",
    "file_path = '../../assets-processed.csv'\n",
    "data = pd.read_csv(file_path)\n",
    "\n",
    "# Display the first few rows to understand its structure\n",
    "print(data.head())\n"
   ]
  },
  {
   "cell_type": "code",
   "execution_count": 17,
   "metadata": {},
   "outputs": [],
   "source": [
    "assets = data[data['Predicted_block_role'] == 'asset']"
   ]
  },
  {
   "cell_type": "code",
   "execution_count": 18,
   "metadata": {},
   "outputs": [],
   "source": [
    "# Assuming each 'table_id' represents a unique table\n",
    "tables = {}\n",
    "for table_id in assets['table_id'].unique():\n",
    "    table_assets = assets[assets['table_id'] == table_id]\n",
    "    sorted_table = table_assets.sort_values(by=['row_index', 'column_index'])\n",
    "    tables[table_id] = sorted_table\n"
   ]
  },
  {
   "cell_type": "code",
   "execution_count": 19,
   "metadata": {},
   "outputs": [
    {
     "name": "stdout",
     "output_type": "stream",
     "text": [
      "Index(['cell_id', 'cell_type', 'entity_type', 'cell_words', 'cell_content',\n",
      "       'cell_width', 'cell_height', 'cell_left', 'cell_top', 'row_index',\n",
      "       'column_index', 'row_span', 'column_span', 'table_id', 'table_type',\n",
      "       'table_width', 'table_height', 'table_left', 'table_top', 'table_page',\n",
      "       'source', 'merged_parent_cell_id', 'has_merged_parent',\n",
      "       'Predicted_block_role', 'Source', 'address_1', 'address_2',\n",
      "       'client_company', 'inspection_date'],\n",
      "      dtype='object')\n"
     ]
    }
   ],
   "source": [
    "# display the columns in assets\n",
    "print(assets.columns)"
   ]
  },
  {
   "cell_type": "code",
   "execution_count": null,
   "metadata": {},
   "outputs": [],
   "source": []
  },
  {
   "cell_type": "code",
   "execution_count": 20,
   "metadata": {},
   "outputs": [
    {
     "data": {
      "text/plain": [
       "{}"
      ]
     },
     "execution_count": 20,
     "metadata": {},
     "output_type": "execute_result"
    }
   ],
   "source": []
  },
  {
   "cell_type": "code",
   "execution_count": null,
   "metadata": {},
   "outputs": [],
   "source": []
  }
 ],
 "metadata": {
  "kernelspec": {
   "display_name": ".venv",
   "language": "python",
   "name": "python3"
  },
  "language_info": {
   "codemirror_mode": {
    "name": "ipython",
    "version": 3
   },
   "file_extension": ".py",
   "mimetype": "text/x-python",
   "name": "python",
   "nbconvert_exporter": "python",
   "pygments_lexer": "ipython3",
   "version": "3.10.9"
  }
 },
 "nbformat": 4,
 "nbformat_minor": 2
}
