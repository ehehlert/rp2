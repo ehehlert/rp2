{
 "cells": [
  {
   "cell_type": "code",
   "execution_count": 1,
   "metadata": {},
   "outputs": [],
   "source": [
    "import os\n",
    "import pandas as pd\n",
    "os.chdir('/Users/ericehlert/rp')\n",
    "\n",
    "from src.functions.get_json import get_json\n",
    "from src.functions.extract_blocks import extract_blocks, add_page_id\n",
    "from src.functions.extract_cells import extract_cell_blocks\n",
    "from src.functions.eee_extract_metadata import filter_blocks_by_terms"
   ]
  },
  {
   "cell_type": "code",
   "execution_count": 2,
   "metadata": {},
   "outputs": [],
   "source": [
    "root = 'textract_jobs/staging'\n",
    "files = get_json(root, ['1-100.json', '101-300.json', '750-999.json'])"
   ]
  },
  {
   "cell_type": "code",
   "execution_count": 3,
   "metadata": {},
   "outputs": [
    {
     "name": "stdout",
     "output_type": "stream",
     "text": [
      "Extracted Cells DataFrame has 96132 rows and 22 columns\n"
     ]
    }
   ],
   "source": [
    "cells_old = extract_cell_blocks(files)"
   ]
  },
  {
   "cell_type": "code",
   "execution_count": 4,
   "metadata": {},
   "outputs": [],
   "source": [
    "from src.functions.extract_cells_new import extract_cell_blocks as cells_new"
   ]
  },
  {
   "cell_type": "code",
   "execution_count": 5,
   "metadata": {},
   "outputs": [
    {
     "name": "stdout",
     "output_type": "stream",
     "text": [
      "Extracted Cells DataFrame has 96132 rows and 22 columns\n"
     ]
    }
   ],
   "source": [
    "cells_new = cells_new(files)"
   ]
  },
  {
   "cell_type": "code",
   "execution_count": 6,
   "metadata": {},
   "outputs": [],
   "source": [
    "cells_old.to_csv('cells_old.csv', index=False)"
   ]
  },
  {
   "cell_type": "code",
   "execution_count": 7,
   "metadata": {},
   "outputs": [],
   "source": [
    "cells_new.to_csv('cells_new.csv', index=False)  "
   ]
  },
  {
   "cell_type": "code",
   "execution_count": 9,
   "metadata": {},
   "outputs": [],
   "source": [
    "from src.functions.process_cells_df import process_cells_dataframe"
   ]
  },
  {
   "cell_type": "code",
   "execution_count": 10,
   "metadata": {},
   "outputs": [
    {
     "name": "stdout",
     "output_type": "stream",
     "text": [
      "Processed Cells DataFrame has 96132 rows and 24 columns\n"
     ]
    }
   ],
   "source": [
    "processed = process_cells_dataframe(cells_new)"
   ]
  },
  {
   "cell_type": "code",
   "execution_count": 11,
   "metadata": {},
   "outputs": [
    {
     "data": {
      "text/html": [
       "<div>\n",
       "<style scoped>\n",
       "    .dataframe tbody tr th:only-of-type {\n",
       "        vertical-align: middle;\n",
       "    }\n",
       "\n",
       "    .dataframe tbody tr th {\n",
       "        vertical-align: top;\n",
       "    }\n",
       "\n",
       "    .dataframe thead th {\n",
       "        text-align: right;\n",
       "    }\n",
       "</style>\n",
       "<table border=\"1\" class=\"dataframe\">\n",
       "  <thead>\n",
       "    <tr style=\"text-align: right;\">\n",
       "      <th></th>\n",
       "      <th>cell_id</th>\n",
       "      <th>cell_type</th>\n",
       "      <th>entity_type</th>\n",
       "      <th>cell_words</th>\n",
       "      <th>cell_content</th>\n",
       "      <th>cell_width</th>\n",
       "      <th>cell_height</th>\n",
       "      <th>cell_left</th>\n",
       "      <th>cell_top</th>\n",
       "      <th>row_index</th>\n",
       "      <th>...</th>\n",
       "      <th>table_type</th>\n",
       "      <th>table_width</th>\n",
       "      <th>table_height</th>\n",
       "      <th>table_left</th>\n",
       "      <th>table_top</th>\n",
       "      <th>table_polygon</th>\n",
       "      <th>page_id</th>\n",
       "      <th>source</th>\n",
       "      <th>merged_parent_cell_id</th>\n",
       "      <th>has_merged_parent</th>\n",
       "    </tr>\n",
       "  </thead>\n",
       "  <tbody>\n",
       "    <tr>\n",
       "      <th>69598</th>\n",
       "      <td>428073c6-299d-4272-bbd3-d0ac3bfa59b6</td>\n",
       "      <td>TABLE_TITLE</td>\n",
       "      <td>None</td>\n",
       "      <td>[Trip, Unit, Settings]</td>\n",
       "      <td>Trip Unit Settings</td>\n",
       "      <td>0.845572</td>\n",
       "      <td>0.021403</td>\n",
       "      <td>0.086389</td>\n",
       "      <td>0.463036</td>\n",
       "      <td>0</td>\n",
       "      <td>...</td>\n",
       "      <td>STRUCTURED_TABLE</td>\n",
       "      <td>0.845771</td>\n",
       "      <td>0.299216</td>\n",
       "      <td>0.08764</td>\n",
       "      <td>0.462069</td>\n",
       "      <td>[{'X': 0.08763951808214188, 'Y': 0.46269810199...</td>\n",
       "      <td>c4068bad-16c7-46eb-bca9-bf4496a96e76</td>\n",
       "      <td>750-999.json</td>\n",
       "      <td>None</td>\n",
       "      <td>0</td>\n",
       "    </tr>\n",
       "    <tr>\n",
       "      <th>69518</th>\n",
       "      <td>d8f19ff7-799f-4a91-af81-e9fb623cd012</td>\n",
       "      <td>CHILD</td>\n",
       "      <td>TABLE_TITLE</td>\n",
       "      <td>[Trip, Unit, Settings]</td>\n",
       "      <td>Trip Unit Settings</td>\n",
       "      <td>0.221201</td>\n",
       "      <td>0.021520</td>\n",
       "      <td>0.087440</td>\n",
       "      <td>0.462512</td>\n",
       "      <td>1</td>\n",
       "      <td>...</td>\n",
       "      <td>STRUCTURED_TABLE</td>\n",
       "      <td>0.845771</td>\n",
       "      <td>0.299216</td>\n",
       "      <td>0.08764</td>\n",
       "      <td>0.462069</td>\n",
       "      <td>[{'X': 0.08763951808214188, 'Y': 0.46269810199...</td>\n",
       "      <td>c4068bad-16c7-46eb-bca9-bf4496a96e76</td>\n",
       "      <td>750-999.json</td>\n",
       "      <td>3794ae51-54bd-43ca-90ab-79c08b479a2d</td>\n",
       "      <td>1</td>\n",
       "    </tr>\n",
       "    <tr>\n",
       "      <th>69593</th>\n",
       "      <td>3794ae51-54bd-43ca-90ab-79c08b479a2d</td>\n",
       "      <td>MERGED_CELL</td>\n",
       "      <td>TABLE_TITLE</td>\n",
       "      <td>[]</td>\n",
       "      <td></td>\n",
       "      <td>0.845572</td>\n",
       "      <td>0.021962</td>\n",
       "      <td>0.087640</td>\n",
       "      <td>0.462069</td>\n",
       "      <td>1</td>\n",
       "      <td>...</td>\n",
       "      <td>STRUCTURED_TABLE</td>\n",
       "      <td>0.845771</td>\n",
       "      <td>0.299216</td>\n",
       "      <td>0.08764</td>\n",
       "      <td>0.462069</td>\n",
       "      <td>[{'X': 0.08763951808214188, 'Y': 0.46269810199...</td>\n",
       "      <td>c4068bad-16c7-46eb-bca9-bf4496a96e76</td>\n",
       "      <td>750-999.json</td>\n",
       "      <td>None</td>\n",
       "      <td>0</td>\n",
       "    </tr>\n",
       "    <tr>\n",
       "      <th>69523</th>\n",
       "      <td>db6d13c1-2282-4577-91c6-eeb11fdda4c1</td>\n",
       "      <td>CHILD</td>\n",
       "      <td>COLUMN_HEADER</td>\n",
       "      <td>[Element]</td>\n",
       "      <td>Element</td>\n",
       "      <td>0.221002</td>\n",
       "      <td>0.019851</td>\n",
       "      <td>0.087650</td>\n",
       "      <td>0.483867</td>\n",
       "      <td>2</td>\n",
       "      <td>...</td>\n",
       "      <td>STRUCTURED_TABLE</td>\n",
       "      <td>0.845771</td>\n",
       "      <td>0.299216</td>\n",
       "      <td>0.08764</td>\n",
       "      <td>0.462069</td>\n",
       "      <td>[{'X': 0.08763951808214188, 'Y': 0.46269810199...</td>\n",
       "      <td>c4068bad-16c7-46eb-bca9-bf4496a96e76</td>\n",
       "      <td>750-999.json</td>\n",
       "      <td>None</td>\n",
       "      <td>0</td>\n",
       "    </tr>\n",
       "    <tr>\n",
       "      <th>69528</th>\n",
       "      <td>a441f1f5-2720-4118-9dc8-95493f9d62b8</td>\n",
       "      <td>CHILD</td>\n",
       "      <td>TABLE_SECTION_TITLE</td>\n",
       "      <td>[Long, Time, Element, Settings]</td>\n",
       "      <td>Long Time Element Settings</td>\n",
       "      <td>0.221202</td>\n",
       "      <td>0.019851</td>\n",
       "      <td>0.087461</td>\n",
       "      <td>0.503555</td>\n",
       "      <td>3</td>\n",
       "      <td>...</td>\n",
       "      <td>STRUCTURED_TABLE</td>\n",
       "      <td>0.845771</td>\n",
       "      <td>0.299216</td>\n",
       "      <td>0.08764</td>\n",
       "      <td>0.462069</td>\n",
       "      <td>[{'X': 0.08763951808214188, 'Y': 0.46269810199...</td>\n",
       "      <td>c4068bad-16c7-46eb-bca9-bf4496a96e76</td>\n",
       "      <td>750-999.json</td>\n",
       "      <td>b36b94e0-1c4d-48e3-8021-d2bd1975a088</td>\n",
       "      <td>1</td>\n",
       "    </tr>\n",
       "  </tbody>\n",
       "</table>\n",
       "<p>5 rows × 24 columns</p>\n",
       "</div>"
      ],
      "text/plain": [
       "                                    cell_id    cell_type          entity_type  \\\n",
       "69598  428073c6-299d-4272-bbd3-d0ac3bfa59b6  TABLE_TITLE                 None   \n",
       "69518  d8f19ff7-799f-4a91-af81-e9fb623cd012        CHILD          TABLE_TITLE   \n",
       "69593  3794ae51-54bd-43ca-90ab-79c08b479a2d  MERGED_CELL          TABLE_TITLE   \n",
       "69523  db6d13c1-2282-4577-91c6-eeb11fdda4c1        CHILD        COLUMN_HEADER   \n",
       "69528  a441f1f5-2720-4118-9dc8-95493f9d62b8        CHILD  TABLE_SECTION_TITLE   \n",
       "\n",
       "                            cell_words                cell_content  \\\n",
       "69598           [Trip, Unit, Settings]          Trip Unit Settings   \n",
       "69518           [Trip, Unit, Settings]          Trip Unit Settings   \n",
       "69593                               []                               \n",
       "69523                        [Element]                     Element   \n",
       "69528  [Long, Time, Element, Settings]  Long Time Element Settings   \n",
       "\n",
       "       cell_width  cell_height  cell_left  cell_top  row_index  ...  \\\n",
       "69598    0.845572     0.021403   0.086389  0.463036          0  ...   \n",
       "69518    0.221201     0.021520   0.087440  0.462512          1  ...   \n",
       "69593    0.845572     0.021962   0.087640  0.462069          1  ...   \n",
       "69523    0.221002     0.019851   0.087650  0.483867          2  ...   \n",
       "69528    0.221202     0.019851   0.087461  0.503555          3  ...   \n",
       "\n",
       "             table_type  table_width  table_height table_left table_top  \\\n",
       "69598  STRUCTURED_TABLE     0.845771      0.299216    0.08764  0.462069   \n",
       "69518  STRUCTURED_TABLE     0.845771      0.299216    0.08764  0.462069   \n",
       "69593  STRUCTURED_TABLE     0.845771      0.299216    0.08764  0.462069   \n",
       "69523  STRUCTURED_TABLE     0.845771      0.299216    0.08764  0.462069   \n",
       "69528  STRUCTURED_TABLE     0.845771      0.299216    0.08764  0.462069   \n",
       "\n",
       "                                           table_polygon  \\\n",
       "69598  [{'X': 0.08763951808214188, 'Y': 0.46269810199...   \n",
       "69518  [{'X': 0.08763951808214188, 'Y': 0.46269810199...   \n",
       "69593  [{'X': 0.08763951808214188, 'Y': 0.46269810199...   \n",
       "69523  [{'X': 0.08763951808214188, 'Y': 0.46269810199...   \n",
       "69528  [{'X': 0.08763951808214188, 'Y': 0.46269810199...   \n",
       "\n",
       "                                    page_id        source  \\\n",
       "69598  c4068bad-16c7-46eb-bca9-bf4496a96e76  750-999.json   \n",
       "69518  c4068bad-16c7-46eb-bca9-bf4496a96e76  750-999.json   \n",
       "69593  c4068bad-16c7-46eb-bca9-bf4496a96e76  750-999.json   \n",
       "69523  c4068bad-16c7-46eb-bca9-bf4496a96e76  750-999.json   \n",
       "69528  c4068bad-16c7-46eb-bca9-bf4496a96e76  750-999.json   \n",
       "\n",
       "                      merged_parent_cell_id has_merged_parent  \n",
       "69598                                  None                 0  \n",
       "69518  3794ae51-54bd-43ca-90ab-79c08b479a2d                 1  \n",
       "69593                                  None                 0  \n",
       "69523                                  None                 0  \n",
       "69528  b36b94e0-1c4d-48e3-8021-d2bd1975a088                 1  \n",
       "\n",
       "[5 rows x 24 columns]"
      ]
     },
     "execution_count": 11,
     "metadata": {},
     "output_type": "execute_result"
    }
   ],
   "source": [
    "processed.head()"
   ]
  }
 ],
 "metadata": {
  "kernelspec": {
   "display_name": ".venv",
   "language": "python",
   "name": "python3"
  },
  "language_info": {
   "codemirror_mode": {
    "name": "ipython",
    "version": 3
   },
   "file_extension": ".py",
   "mimetype": "text/x-python",
   "name": "python",
   "nbconvert_exporter": "python",
   "pygments_lexer": "ipython3",
   "version": "3.10.9"
  }
 },
 "nbformat": 4,
 "nbformat_minor": 2
}
